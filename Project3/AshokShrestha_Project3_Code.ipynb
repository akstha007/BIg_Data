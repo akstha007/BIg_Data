{
 "cells": [
  {
   "cell_type": "markdown",
   "metadata": {},
   "source": [
    "<div style=\"color: #2590c2; text-align: center;\">\n",
    "<span style=\"font-size:18pt;\"><b>ST: BIG DATA ANALYTICS</b></span><br/>\n",
    "<span>CS 696-16 (Fall'18)</span><br/><br/>\n",
    "<span><b>Project 3</b></span><br/><br/>\n",
    "<span>Submitted By</span><br/>\n",
    "<span>Ashok Kumar Shrestha</span>\n",
    "</div>"
   ]
  },
  {
   "cell_type": "code",
   "execution_count": null,
   "metadata": {},
   "outputs": [],
   "source": [
    "#credit card fraud detection\n",
    "#kaggle challenge\n",
    "#https://www.kaggle.com/mlg-ulb/creditcardfraud/home"
   ]
  },
  {
   "cell_type": "code",
   "execution_count": null,
   "metadata": {},
   "outputs": [],
   "source": [
    "import pandas as pd\n",
    "data = pd.read_csv(\"creditcard.csv\")\n",
    "data.head(5)"
   ]
  },
  {
   "cell_type": "code",
   "execution_count": null,
   "metadata": {},
   "outputs": [],
   "source": [
    "import matplotlib.pyplot as plt\n",
    "import seaborn as sns\n",
    "import numpy as np\n",
    "from sklearn.manifold import TSNE\n",
    "from sklearn.decomposition import PCA, TruncatedSVD\n",
    "from sklearn.preprocessing import StandardScaler\n",
    "from sklearn.linear_model import LogisticRegression\n",
    "from sklearn.svm import SVC\n",
    "from sklearn.neighbors import KNeighborsClassifier\n",
    "from sklearn.tree import DecisionTreeClassifier\n",
    "from sklearn.ensemble import RandomForestClassifier\n",
    "from sklearn.model_selection import train_test_split\n",
    "from sklearn.model_selection import cross_val_score\n",
    "import time\n",
    "import collections\n",
    "import matplotlib.patches as mpatches\n",
    "%matplotlib inline"
   ]
  },
  {
   "cell_type": "code",
   "execution_count": null,
   "metadata": {},
   "outputs": [],
   "source": [
    "colors = [\"#0101DF\", \"#DF0101\"]\n",
    "sns.countplot('Class', data=data, palette=colors)\n",
    "plt.title('Class Distributions \\n (0: No Fraud | 1: Fraud)', fontsize=12)"
   ]
  },
  {
   "cell_type": "code",
   "execution_count": null,
   "metadata": {},
   "outputs": [],
   "source": [
    "data['Amount'] = StandardScaler().fit_transform(data['Amount'].reshape(-1, 1))\n",
    "data['Time'] = StandardScaler().fit_transform(data['Time'].reshape(-1, 1))"
   ]
  },
  {
   "cell_type": "code",
   "execution_count": null,
   "metadata": {},
   "outputs": [],
   "source": [
    "# Correlation Heatmap for original datasets\n",
    "correlation_matrix = data.corr()\n",
    "fig = plt.figure(figsize=(12,9))\n",
    "fig.suptitle('Correlation Heatmap for Credit Card Fraud Detection Dataset', \n",
    "              fontsize=14);\n",
    "sns.heatmap(correlation_matrix,cmap='coolwarm', square = True)\n",
    "fig.savefig('heatmapa.jpg')\n",
    "plt.show()"
   ]
  },
  {
   "cell_type": "code",
   "execution_count": null,
   "metadata": {},
   "outputs": [],
   "source": [
    "#random under sampling\n",
    "data = data.sample(frac=1)\n",
    "fraud_data = data.loc[data['Class'] == 1]\n",
    "non_fraud_data = data.loc[data['Class'] == 0][:492]\n",
    "normal_distributed_data = pd.concat([fraud_data, non_fraud_data])\n",
    "new_data = normal_distributed_data.sample(frac=1, random_state=42)`\n",
    "new_data.head()"
   ]
  },
  {
   "cell_type": "code",
   "execution_count": null,
   "metadata": {},
   "outputs": [],
   "source": [
    "sns.countplot('Class', data=new_data, palette=colors)\n",
    "plt.title('Equally Distributed Classes\\n (0: No Fraud | 1: Fraud)', fontsize=12)\n",
    "plt.show()"
   ]
  },
  {
   "cell_type": "code",
   "execution_count": null,
   "metadata": {},
   "outputs": [],
   "source": [
    "# Correlation Heatmap for resampled datasets\n",
    "correlation_matrix = new_data.corr()\n",
    "fig = plt.figure(figsize=(12,9))\n",
    "fig.suptitle('Resampled Correlation Heatmap for Credit Card Fraud Detection Dataset', \n",
    "              fontsize=14);\n",
    "sns.heatmap(correlation_matrix,cmap='coolwarm',square = True)\n",
    "fig.savefig('heatmapb.jpg')\n",
    "plt.show()"
   ]
  },
  {
   "cell_type": "code",
   "execution_count": null,
   "metadata": {},
   "outputs": [],
   "source": [
    "# Resampling\n",
    "X = new_data.drop('Class', axis=1)\n",
    "y = new_data['Class']\n",
    "\n",
    "X_train, X_test, y_train, y_test = train_test_split(X, y, test_size=0.2, random_state=42)"
   ]
  },
  {
   "cell_type": "code",
   "execution_count": null,
   "metadata": {},
   "outputs": [],
   "source": [
    "# T-SNE\n",
    "X_reduced_tsne = TSNE(n_components=2, random_state=42).fit_transform(X.values)\n",
    "\n",
    "# PCA\n",
    "X_reduced_pca = PCA(n_components=2, random_state=42).fit_transform(X.values)\n",
    "\n",
    "# TruncatedSVD\n",
    "X_reduced_svd = TruncatedSVD(n_components=2, algorithm='randomized', random_state=42).fit_transform(X.values)\n",
    "\n",
    "#plotting datasets\n",
    "f, (ax1, ax2, ax3) = plt.subplots(1, 3, figsize=(24,6))\n",
    "f.suptitle('Clusters using Dimensionality Reduction', fontsize=12)\n",
    "\n",
    "blue_patch = mpatches.Patch(color='#0A0AFF', label='No Fraud')\n",
    "red_patch = mpatches.Patch(color='#AF0000', label='Fraud')\n",
    "\n",
    "# t-SNE scatter plot\n",
    "ax1.scatter(X_reduced_tsne[:,0], X_reduced_tsne[:,1], c=(y == 0), cmap='coolwarm', label='No Fraud', linewidths=1)\n",
    "ax1.scatter(X_reduced_tsne[:,0], X_reduced_tsne[:,1], c=(y == 1), cmap='coolwarm', label='Fraud', linewidths=1)\n",
    "ax1.set_title('t-SNE', fontsize=12)\n",
    "ax1.grid(True)\n",
    "ax1.legend(handles=[blue_patch, red_patch])\n",
    "\n",
    "\n",
    "# PCA scatter plot\n",
    "ax2.scatter(X_reduced_pca[:,0], X_reduced_pca[:,1], c=(y == 0), cmap='coolwarm', label='No Fraud', linewidths=1)\n",
    "ax2.scatter(X_reduced_pca[:,0], X_reduced_pca[:,1], c=(y == 1), cmap='coolwarm', label='Fraud', linewidths=1)\n",
    "ax2.set_title('PCA', fontsize=12)\n",
    "ax2.grid(True)\n",
    "ax2.legend(handles=[blue_patch, red_patch])\n",
    "\n",
    "# TruncatedSVD scatter plot\n",
    "ax3.scatter(X_reduced_svd[:,0], X_reduced_svd[:,1], c=(y == 0), cmap='coolwarm', label='No Fraud', linewidths=1)\n",
    "ax3.scatter(X_reduced_svd[:,0], X_reduced_svd[:,1], c=(y == 1), cmap='coolwarm', label='Fraud', linewidths=1)\n",
    "ax3.set_title('Truncated SVD', fontsize=12)\n",
    "ax3.grid(True)\n",
    "ax3.legend(handles=[blue_patch, red_patch])\n",
    "plt.show()"
   ]
  },
  {
   "cell_type": "code",
   "execution_count": null,
   "metadata": {},
   "outputs": [],
   "source": [
    "classifiers = {\n",
    "    \"LogisiticRegression\": LogisticRegression(),\n",
    "    \"KNearest\": KNeighborsClassifier(),\n",
    "    \"Support Vector Classifier\": SVC(),\n",
    "    \"DecisionTreeClassifier\": DecisionTreeClassifier()\n",
    "}\n",
    "\n",
    "for key, classifier in classifiers.items():\n",
    "    classifier.fit(X_train, y_train)\n",
    "    training_score = cross_val_score(classifier, X_train, y_train, cv=5)\n",
    "    print(\"Classifier: \", classifier.__class__.__name__, \"\\nTraining score: \", round(training_score.mean(), 2) * 100, \"%\")\n",
    "    y_pred = classifier.predict(X_test)\n",
    "    print(\"Testing accuracy: \",round(accuracy_score(y_test,y_pred),2) * 100,\"%\")\n",
    "    print(classification_report(y_test,y_pred))    \n",
    "    \n",
    "    cnf_matrix = confusion_matrix(y_test,y_pred)\n",
    "    plt.figure()\n",
    "    plot_confusion_matrix(cnf_matrix\n",
    "                          , classes=classifier.__class__.__name__\n",
    "                          , title='Confusion matrix')\n",
    "    plt.show()\n",
    "    \n",
    "    fpr, tpr, thresholds = roc_curve(y_test,y_pred)\n",
    "    roc_auc = auc(fpr,tpr)\n",
    "\n",
    "    plt.title('Receiver Operating Characteristic')\n",
    "    plt.plot(fpr, tpr,label=classifier.__class__.__name__)\n",
    "    plt.legend(loc='lower right')\n",
    "    plt.plot([0,1],[0,1],'r--')\n",
    "    plt.xlim([-0.1,1.0])\n",
    "    plt.ylim([-0.1,1.01])\n",
    "    plt.ylabel('True Positive Rate')\n",
    "    plt.xlabel('False Positive Rate')\n",
    "    \n",
    "plt.show()"
   ]
  },
  {
   "cell_type": "code",
   "execution_count": null,
   "metadata": {},
   "outputs": [],
   "source": [
    "# test data\n",
    "\n",
    "def test(X_train, y_train):\n",
    "    log_reg_score = cross_val_score(log_reg, X_train, y_train, cv=5)\n",
    "    print('Logistic Regression Score: ', round(log_reg_score.mean() * 100, 2).astype(str) + '%')\n",
    "\n",
    "    knears_score = cross_val_score(knears_neighbors, X_train, y_train, cv=5)\n",
    "    print('Knears Neighbors Score', round(knears_score.mean() * 100, 2).astype(str) + '%')\n",
    "\n",
    "    svc_score = cross_val_score(svc, X_train, y_train, cv=5)\n",
    "    print('Support Vector Classifier Score', round(svc_score.mean() * 100, 2).astype(str) + '%')\n",
    "\n",
    "    tree_score = cross_val_score(tree_clf, X_train, y_train, cv=5)\n",
    "    print('DecisionTree Classifier Score', round(tree_score.mean() * 100, 2).astype(str) + '%')"
   ]
  },
  {
   "cell_type": "code",
   "execution_count": null,
   "metadata": {},
   "outputs": [],
   "source": [
    "test(X_train, y_train)"
   ]
  },
  {
   "cell_type": "code",
   "execution_count": null,
   "metadata": {},
   "outputs": [],
   "source": [
    "test(X_test, y_test)"
   ]
  },
  {
   "cell_type": "code",
   "execution_count": null,
   "metadata": {},
   "outputs": [],
   "source": [
    "X = data.drop('Class', axis=1)\n",
    "y = data['Class']\n",
    "\n",
    "X_train, X_test, y_train, y_test = train_test_split(X, y, test_size=0.5, random_state=42)"
   ]
  },
  {
   "cell_type": "code",
   "execution_count": null,
   "metadata": {},
   "outputs": [],
   "source": [
    "test(X_test, y_test)"
   ]
  },
  {
   "cell_type": "code",
   "execution_count": null,
   "metadata": {},
   "outputs": [],
   "source": []
  },
  {
   "cell_type": "code",
   "execution_count": null,
   "metadata": {},
   "outputs": [],
   "source": []
  },
  {
   "cell_type": "code",
   "execution_count": null,
   "metadata": {},
   "outputs": [],
   "source": []
  },
  {
   "cell_type": "code",
   "execution_count": null,
   "metadata": {},
   "outputs": [],
   "source": []
  }
 ],
 "metadata": {
  "kernelspec": {
   "display_name": "Python 3",
   "language": "python",
   "name": "python3"
  },
  "language_info": {
   "codemirror_mode": {
    "name": "ipython",
    "version": 3
   },
   "file_extension": ".py",
   "mimetype": "text/x-python",
   "name": "python",
   "nbconvert_exporter": "python",
   "pygments_lexer": "ipython3",
   "version": "3.6.4"
  }
 },
 "nbformat": 4,
 "nbformat_minor": 2
}
